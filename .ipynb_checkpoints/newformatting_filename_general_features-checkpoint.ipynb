{
 "cells": [
  {
   "cell_type": "code",
   "execution_count": 1,
   "id": "edd2dff0-04aa-460e-9bf6-821265269130",
   "metadata": {},
   "outputs": [],
   "source": [
    "import matplotlib \n",
    "import matplotlib as mpl\n",
    "import matplotlib.pyplot as plt\n",
    "from matplotlib import cm\n",
    "from matplotlib import rc\n",
    "%matplotlib inline\n",
    "rc('text', usetex=True)\n",
    "font = {'weight' : 'bold','size'   : 22}\n",
    "matplotlib.rc('font', **font)\n",
    "#############################################\n",
    "import warnings\n",
    "warnings.filterwarnings(\"ignore\")\n",
    "#############################################\n",
    "import os,sys\n",
    "import numpy as np\n",
    "import healpy as hp\n",
    "import healpy.newvisufunc as hpn\n",
    "import astropy.io.fits as fits\n",
    "#############################################\n",
    "sys.path.insert(1, '/media/BINGODATA1/ComponentSeparation/beam_analyzes/scripts')\n",
    "import handling_data          as hdata\n",
    "#############################################"
   ]
  },
  {
   "cell_type": "code",
   "execution_count": 2,
   "id": "7e67a262-1390-41b8-8532-cde3e1ca6a96",
   "metadata": {},
   "outputs": [],
   "source": [
    "path        = \"/media/BINGODATA1/ComponentSeparation\"\n",
    "idir        = \"flask_maps_512\"\n",
    "output_info = {\"field\":\"HI\", \n",
    "               \"frequency\":{\"min\":980,\"max\":1260,'nbands':30},\n",
    "               \"covering\":'partial',\n",
    "               'beam': {'model':'ZN', 'fwhm':10}, \n",
    "               'stokes':'I',\n",
    "               \"freq_unit\":\"MHz\", \"stokes_unit\":\"mk\", \"fwhm_unit\":\"arcmin\",\n",
    "               \"realization\":['0100']}"
   ]
  },
  {
   "cell_type": "markdown",
   "id": "aaeee2e7-7405-4479-a43e-916d295947ba",
   "metadata": {},
   "source": [
    "## Detailed Description"
   ]
  },
  {
   "cell_type": "code",
   "execution_count": 3,
   "id": "9791ef15-9eec-47c8-b8b8-52213ad44883",
   "metadata": {},
   "outputs": [],
   "source": [
    "pathdir   = hdata.os.path.join(path,idir) #<-- path to diretories with all maps\n",
    "filenames = hdata.get_allfilenames(dirpath_=pathdir) #all filenames in the directory\n",
    "_ids_     = hdata.get_all_realizations_id(filenames) #all realization names\n",
    "idic      = hdata.get_filenames4realizations(filenames_=filenames, ids_=_ids_) #all filenames for a specific realization\n",
    "###########\n",
    "ifile     = np.random.choice(idic[output_info['realization'][0]]) #Choice a specific realization name just to test\n",
    "ginfo     = hdata.get_info_from_filename(dirname_= idir, filename_=ifile, \n",
    "                                         numin_ =output_info['frequency']['min'], \n",
    "                                         numax_ =output_info['frequency']['max'], \n",
    "                                         nbands_=output_info['frequency']['nbands']) #info from filenames\n",
    "new_name  = hdata.return_new_FITSfilename(ginfo, output_info, add_info=None) #new FITS name for that map cube\n",
    "###########\n",
    "vec_hdu0  = ginfo['frequency']['nu']\n",
    "hdr_hdu0  = hdata.creating_primary_FITSheader(output_info)\n",
    "vec_hdu1  = hdata.building_cubemaps_from_realization(pathdir_=pathdir, filenames_=idic[output_info['realization'][0]]) #extracting all maps for a specific realization and building a cube\n",
    "hdr_hdu1  = hdata.creating_multimap_FITSheader(new_name, \n",
    "                                               freq_unit  =output_info[\"freq_unit\"], \n",
    "                                               stokes_unit=output_info[\"stokes_unit\"], \n",
    "                                               fwhm_unit  =output_info[\"fwhm_unit\"]) #Header to be used "
   ]
  },
  {
   "cell_type": "code",
   "execution_count": 4,
   "id": "5af49a08-20cf-43c2-8110-23e36ca59380",
   "metadata": {},
   "outputs": [
    {
     "name": "stdout",
     "output_type": "stream",
     "text": [
      "Each name of INPUT map looks like: HImap-r0100-f1z24.fits\n",
      "Multimaps new name: HI_I_512_980mhz1260mhz_30bins_partial_10arcminZNbeam_L0100.fits\n"
     ]
    }
   ],
   "source": [
    "print(\"Each name of INPUT map looks like: {}\".format(ifile) )\n",
    "print(\"Multimaps new name: {}\".format(new_name) )"
   ]
  },
  {
   "cell_type": "code",
   "execution_count": 5,
   "id": "cb1d006f-0091-4ed0-9f23-e7807ed33dba",
   "metadata": {},
   "outputs": [],
   "source": [
    "try:\n",
    "    os.remove(new_name)\n",
    "except: \n",
    "    pass\n",
    "new_name = \"\".join((\"test_\",new_name)) #I'll change the 'new_name' just to show how this work. In another case, keep the same new_name, that's, doesn't change it\n",
    "hdu0 = fits.PrimaryHDU(header=hdr_hdu0,data=vec_hdu0)\n",
    "hdu1 = fits.ImageHDU(  header=hdr_hdu1,data=vec_hdu1, name=\"MULTIMAPS\")\n",
    "hdul = fits.HDUList([hdu0,hdu1])\n",
    "hdul.writeto(new_name)"
   ]
  },
  {
   "cell_type": "code",
   "execution_count": 6,
   "id": "aa8e8e14-5fd0-4fe6-b2b7-30f23e11d219",
   "metadata": {},
   "outputs": [
    {
     "name": "stdout",
     "output_type": "stream",
     "text": [
      "Filename: (No file associated with this HDUList)\n",
      "No.    Name      Ver    Type      Cards   Dimensions   Format\n",
      "  0  PRIMARY       1 PrimaryHDU       9   (31,)   float64   \n",
      "  1  MULTIMAPS     1 ImageHDU        21   (3145728, 30)   float64   \n"
     ]
    }
   ],
   "source": [
    "#General info\n",
    "hdul.info()"
   ]
  },
  {
   "cell_type": "code",
   "execution_count": 7,
   "id": "92377dc1-a59e-440e-9fc8-0ebc4b26889c",
   "metadata": {},
   "outputs": [
    {
     "name": "stdout",
     "output_type": "stream",
     "text": [
      "HEADER:\n",
      "\n",
      "SIMPLE  =                    T / conforms to FITS standard                      \n",
      "BITPIX  =                  -64 / array data type                                \n",
      "NAXIS   =                    1 / number of array dimensions                     \n",
      "NAXIS1  =                   31                                                  \n",
      "EXTEND  =                    T                                                  \n",
      "FREQ_MIN=                  980                                                  \n",
      "FREQ_MAX=                 1260                                                  \n",
      "NBANDS  =                   30                                                  \n",
      "COMMENT PRIMARY HDU CONTAIN THE REDSHIFT VECTOR                                 \n"
     ]
    }
   ],
   "source": [
    "#PRIMARY HDU -- HDU 0\n",
    "#\n",
    "# Here you'll see informations about redshift vector containing all intervals of redshifts\n",
    "# Minimal and maximal frequencies used for and number of bands (or bins, which is the same here)\n",
    "print('HEADER:\\n')\n",
    "print(repr(hdul[0].header))"
   ]
  },
  {
   "cell_type": "code",
   "execution_count": 8,
   "id": "185b3a76-14ef-4b90-8963-cc1cfe4fb9f5",
   "metadata": {},
   "outputs": [
    {
     "name": "stdout",
     "output_type": "stream",
     "text": [
      "DATA:\n",
      "\n",
      "array([ 980.  ,  989.33,  998.67, 1008.  , 1017.33, 1026.67, 1036.  ,\n",
      "       1045.33, 1054.67, 1064.  , 1073.33, 1082.67, 1092.  , 1101.33,\n",
      "       1110.67, 1120.  , 1129.33, 1138.67, 1148.  , 1157.33, 1166.67,\n",
      "       1176.  , 1185.33, 1194.67, 1204.  , 1213.33, 1222.67, 1232.  ,\n",
      "       1241.33, 1250.67, 1260.  ])\n"
     ]
    }
   ],
   "source": [
    "print('DATA:\\n')\n",
    "print(repr(hdul[0].data))"
   ]
  },
  {
   "cell_type": "code",
   "execution_count": 9,
   "id": "dc2ff9f3-49c6-4f74-8ae6-a8a1ca6626f0",
   "metadata": {},
   "outputs": [
    {
     "name": "stdout",
     "output_type": "stream",
     "text": [
      "HEADER:\n",
      "\n",
      "XTENSION= 'IMAGE   '           / Image extension                                \n",
      "BITPIX  =                  -64 / array data type                                \n",
      "NAXIS   =                    2 / number of array dimensions                     \n",
      "NAXIS1  =              3145728                                                  \n",
      "NAXIS2  =                   30                                                  \n",
      "PCOUNT  =                    0 / number of parameters                           \n",
      "GCOUNT  =                    1 / number of groups                               \n",
      "FIELD   = 'HI      '                                                            \n",
      "STOKES  = 'I       '           / mk                                             \n",
      "NSIDE   =                  512                                                  \n",
      "FREQ_MIN=                980.0 / in MHz                                         \n",
      "FREQ_MAX=               1260.0 / in MHz                                         \n",
      "NBINS   =                   30                                                  \n",
      "COVER   = 'partial '           / {full- or partial-sky}                         \n",
      "FWHM    =                 10.0 / arcmin                                         \n",
      "BEAM    = 'Zernike '                                                            \n",
      "EXTNAME = 'MULTIMAPS'          / extension name                                 \n",
      "COMMENT THIS IS A NEW NAME FORMAT FOR THE BINGO PROJECT FITS FILES.             \n",
      "COMMENT THESE FILES ARE USED FOR COMPONENT SEPARATION CODE CALLED --CHISEL--    \n",
      "COMMENT https://github.com/multinverse/CHISEL---signals-from-LIM                \n",
      "COMMENT ITS FORMAT ASSUME FLASK MAPS AS INPUT                                   \n"
     ]
    }
   ],
   "source": [
    "#IMAGE HDU -- HDU 1 -- ALL MAPS IN A MATRIX REPRESENTATION\n",
    "#\n",
    "# HERE you can look at all information describing the multimaps (all maps in matrix representation)\n",
    "# You can see which is the field, Stokes parameter, NSIDE HealPIX resolution, Project covering,\n",
    "# If it's assumed a beam convolution or not, and if so which are FHWM and the Beam model assumed\n",
    "print('HEADER:\\n')\n",
    "print(repr(hdul[1].header))"
   ]
  },
  {
   "cell_type": "code",
   "execution_count": 10,
   "id": "a7cc60c6-588e-4ab7-8fb4-05578f7b1db2",
   "metadata": {},
   "outputs": [
    {
     "name": "stdout",
     "output_type": "stream",
     "text": [
      "DATA:\n",
      "\n",
      "array([[ 0.02906217,  0.00729274,  0.22431837, ...,  0.0026751 ,\n",
      "         0.00079916,  0.04069765],\n",
      "       [ 0.01000084,  0.0031949 ,  0.01044813, ...,  0.00550903,\n",
      "         0.01120859,  0.00627547],\n",
      "       [-0.00458689,  0.01937331,  0.06184552, ...,  0.00210131,\n",
      "        -0.00182344,  0.01094116],\n",
      "       ...,\n",
      "       [ 0.05076072,  0.39804465,  0.28931886, ...,  0.01289645,\n",
      "         0.04294902,  0.07024486],\n",
      "       [ 0.02354094,  0.11523544,  0.043694  , ..., -0.00146643,\n",
      "         0.00255653,  0.00735769],\n",
      "       [ 0.00338627,  0.06686396,  0.40749404, ...,  0.00612071,\n",
      "         0.02526287,  0.06304943]])\n"
     ]
    }
   ],
   "source": [
    "print('DATA:\\n')\n",
    "print(repr(hdul[1].data))"
   ]
  },
  {
   "cell_type": "code",
   "execution_count": 11,
   "id": "5a7aa5bc-b223-47c5-84d1-bf615d78cf23",
   "metadata": {},
   "outputs": [
    {
     "name": "stdout",
     "output_type": "stream",
     "text": [
      "Size of the FITS file: 721M\n"
     ]
    }
   ],
   "source": [
    "print(\"Size of the FITS file: {}\".format(os.popen(\"du -sh {}\".format(new_name)).readlines()[0].split()[0]))"
   ]
  }
 ],
 "metadata": {
  "kernelspec": {
   "display_name": "Python 3 (ipykernel)",
   "language": "python",
   "name": "python3"
  },
  "language_info": {
   "codemirror_mode": {
    "name": "ipython",
    "version": 3
   },
   "file_extension": ".py",
   "mimetype": "text/x-python",
   "name": "python",
   "nbconvert_exporter": "python",
   "pygments_lexer": "ipython3",
   "version": "3.8.16"
  }
 },
 "nbformat": 4,
 "nbformat_minor": 5
}
